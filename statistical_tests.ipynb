{
  "nbformat": 4,
  "nbformat_minor": 0,
  "metadata": {
    "colab": {
      "name": "statistical tests.ipynb",
      "provenance": [],
      "collapsed_sections": [],
      "authorship_tag": "ABX9TyM6A6OqA2tfJCQMRoeB9IBK",
      "include_colab_link": true
    },
    "kernelspec": {
      "name": "python3",
      "display_name": "Python 3"
    },
    "language_info": {
      "name": "python"
    }
  },
  "cells": [
    {
      "cell_type": "markdown",
      "metadata": {
        "id": "view-in-github",
        "colab_type": "text"
      },
      "source": [
        "<a href=\"https://colab.research.google.com/github/yamangoyal29/ASSIGNMENTS/blob/main/statistical_tests.ipynb\" target=\"_parent\"><img src=\"https://colab.research.google.com/assets/colab-badge.svg\" alt=\"Open In Colab\"/></a>"
      ]
    },
    {
      "cell_type": "markdown",
      "metadata": {
        "id": "aOdSVdqyEi7b"
      },
      "source": [
        "one sample z test\n"
      ]
    },
    {
      "cell_type": "code",
      "metadata": {
        "colab": {
          "base_uri": "https://localhost:8080/"
        },
        "id": "DvZhY_-JmHqv",
        "outputId": "7c8a7875-2789-4bf8-ebd2-43827acf8d7a"
      },
      "source": [
        "\n",
        "import math\n",
        "import numpy as np\n",
        "from numpy.random import randn\n",
        "from statsmodels.stats.weightstats import ztest\n",
        "mean_iq = 52.8\n",
        "sd_iq = 4.5/math.sqrt(100)\n",
        "alpha =0.05\n",
        "null_mean =52\n",
        "data = 4.5*randn(100)+mean_iq\n",
        "# print mean and sd\n",
        "print('mean=%.2f stdv=%.2f' % (np.mean(data), np.std(data)))\n",
        "ztest_Score, p_value= ztest(data,value = null_mean)\n",
        "print(p_value)\n",
        "  \n",
        "if(p_value <  alpha):\n",
        "  print(\"Reject Null Hypothesis\")\n",
        "else:\n",
        "  print(\"Fail to Reject NUll Hypothesis\")"
      ],
      "execution_count": 8,
      "outputs": [
        {
          "output_type": "stream",
          "text": [
            "mean=52.74 stdv=4.56\n",
            "0.10885802896392167\n",
            "Fail to Reject NUll Hypothesis\n"
          ],
          "name": "stdout"
        }
      ]
    },
    {
      "cell_type": "markdown",
      "metadata": {
        "id": "5Io_hz4OGPFW"
      },
      "source": [
        "one sample student t test\n"
      ]
    },
    {
      "cell_type": "code",
      "metadata": {
        "colab": {
          "base_uri": "https://localhost:8080/"
        },
        "id": "MrhhPbOjtdev",
        "outputId": "77dd7381-0960-4321-87c6-e6feabd83bf0"
      },
      "source": [
        "from scipy.stats import ttest_1samp\n",
        "x =  [1008, 812, 1117, 1323, 1308, 1415, 831, 1021, 1287, 851, 930, 730, 699,\n",
        "872, 913, 944, 954, 987, 1695, 995, 1003, 994]\n",
        "tscore, pvalue = ttest_1samp(x, popmean=1135)\n",
        "print(\"t Statistic: \", tscore)  \n",
        "print(\"P Value: \", pvalue)\n",
        "if(pvalue/2 <  0.5):\n",
        "  print(\"Reject Null Hypothesis\")\n",
        "else:\n",
        "  print(\"Fail to Reject NUll Hypothesis\")"
      ],
      "execution_count": 6,
      "outputs": [
        {
          "output_type": "stream",
          "text": [
            "t Statistic:  -2.023137479931484\n",
            "P Value:  0.0559738319464585\n",
            "Reject Null Hypothesis\n"
          ],
          "name": "stdout"
        }
      ]
    },
    {
      "cell_type": "markdown",
      "metadata": {
        "id": "D-06Vg02G865"
      },
      "source": [
        "confidence interval\n"
      ]
    },
    {
      "cell_type": "code",
      "metadata": {
        "colab": {
          "base_uri": "https://localhost:8080/"
        },
        "id": "9ApBtSGHGe5r",
        "outputId": "4fcd85d6-92b5-42e6-ea1d-ec23c8448b31"
      },
      "source": [
        "from scipy.stats import norm\n",
        "data = norm.rvs(loc=60, scale=4, size=25)\n",
        "import numpy as np\n",
        "import scipy.stats as st\n",
        "st.norm.interval(alpha=0.95, loc=np.mean(data), scale=st.sem(data)) \n",
        "\n"
      ],
      "execution_count": 12,
      "outputs": [
        {
          "output_type": "execute_result",
          "data": {
            "text/plain": [
              "(58.30195324847092, 61.30314248503373)"
            ]
          },
          "metadata": {
            "tags": []
          },
          "execution_count": 12
        }
      ]
    },
    {
      "cell_type": "markdown",
      "metadata": {
        "id": "5wNMEP7zLSZZ"
      },
      "source": [
        ""
      ]
    },
    {
      "cell_type": "markdown",
      "metadata": {
        "id": "zOz9TshNMmra"
      },
      "source": [
        "two sample t test with same population var\n"
      ]
    },
    {
      "cell_type": "code",
      "metadata": {
        "colab": {
          "base_uri": "https://localhost:8080/"
        },
        "id": "qLHOU5-2Jtup",
        "outputId": "74e0c9fc-44d2-4a7e-c3e0-5e7437814eb5"
      },
      "source": [
        "from scipy import stats\n",
        "rvs1 = stats.norm.rvs(loc=452,scale=212,size=1200)\n",
        "rvs2 = stats.norm.rvs(loc=523,scale=185,size=800)\n",
        "t_stat, p_value = stats.ttest_ind(rvs1,rvs2)\n",
        "alpha = 0.05\n",
        "if(p_value <  alpha):\n",
        "  print(\"Reject Null Hypothesis\")\n",
        "else:\n",
        "  print(\"Fail to Reject NUll Hypothesis\")"
      ],
      "execution_count": 14,
      "outputs": [
        {
          "output_type": "stream",
          "text": [
            "Reject Null Hypothesis\n"
          ],
          "name": "stdout"
        }
      ]
    },
    {
      "cell_type": "markdown",
      "metadata": {
        "id": "IN1hudzkNWC1"
      },
      "source": [
        "two sample t test with diff population variance"
      ]
    },
    {
      "cell_type": "code",
      "metadata": {
        "colab": {
          "base_uri": "https://localhost:8080/"
        },
        "id": "Uh5g1o43NH1l",
        "outputId": "1cdcf012-06ad-4b48-e628-a1a22396105e"
      },
      "source": [
        "from scipy import stats\n",
        "rvs1 = stats.norm.rvs(loc=452,scale=212,size=1200)\n",
        "rvs2 = stats.norm.rvs(loc=523,scale=185,size=800)\n",
        "t_stat, p_value = stats.ttest_ind(rvs1,rvs2, equal_var= False)\n",
        "alpha = 0.05\n",
        "if(p_value <  alpha):\n",
        "  print(\"Reject Null Hypothesis\")\n",
        "else:\n",
        "  print(\"Fail to Reject NUll Hypothesis\")"
      ],
      "execution_count": 15,
      "outputs": [
        {
          "output_type": "stream",
          "text": [
            "Reject Null Hypothesis\n"
          ],
          "name": "stdout"
        }
      ]
    },
    {
      "cell_type": "markdown",
      "metadata": {
        "id": "wupDtFoGVA2h"
      },
      "source": [
        "chi sqaure goodness of fit test\n"
      ]
    },
    {
      "cell_type": "code",
      "metadata": {
        "id": "kTirIaQGNgOF"
      },
      "source": [
        "observed=[16, 20, 25, 14, 29, 28]\n",
        "expected=[22,22,22,22,22,22]"
      ],
      "execution_count": 20,
      "outputs": []
    },
    {
      "cell_type": "code",
      "metadata": {
        "colab": {
          "base_uri": "https://localhost:8080/"
        },
        "id": "iW48TKMGUJVB",
        "outputId": "69f687f9-c307-4761-874e-ac388c07cbfc"
      },
      "source": [
        "t_stat, p_value = stats.chisquare(f_obs= observed,\n",
        "                f_exp= expected)\n",
        "alpha = 0.05\n",
        "if(p_value <  alpha):\n",
        "  print(\"Reject Null Hypothesis\")\n",
        "else:\n",
        "  print(\"Fail to Reject NUll Hypothesis\")\n"
      ],
      "execution_count": 27,
      "outputs": [
        {
          "output_type": "stream",
          "text": [
            "Fail to Reject NUll Hypothesis\n"
          ],
          "name": "stdout"
        }
      ]
    },
    {
      "cell_type": "markdown",
      "metadata": {
        "id": "0iJuMKHEZ0IY"
      },
      "source": [
        "contingency table chi square test\n"
      ]
    },
    {
      "cell_type": "code",
      "metadata": {
        "colab": {
          "base_uri": "https://localhost:8080/"
        },
        "id": "K7bX8jxGUToM",
        "outputId": "3495e60e-c4a0-4ee3-e092-1d74a2e45563"
      },
      "source": [
        "from scipy.stats import chi2_contingency\n",
        "obs = np.array([[2792,3591], [1486,2131]])   \n",
        "g, p_value, dof, expctd = chi2_contingency(obs)\n",
        "g, p, dof    \n",
        "\n",
        "alpha = 0.05\n",
        "if(p_value <  alpha):\n",
        "  print(\"Reject Null Hypothesis\")\n",
        "else:\n",
        "  print(\"Fail to Reject NUll Hypothesis\")                               "
      ],
      "execution_count": 42,
      "outputs": [
        {
          "output_type": "stream",
          "text": [
            "Reject Null Hypothesis\n"
          ],
          "name": "stdout"
        }
      ]
    },
    {
      "cell_type": "code",
      "metadata": {
        "colab": {
          "base_uri": "https://localhost:8080/"
        },
        "id": "XuUGisRWUVQ5",
        "outputId": "a88647a5-7149-47ef-c797-36391b7a68e2"
      },
      "source": [
        "obs=np.array([[18,22,20],[2,28,40],[20,10,40]])\n",
        "g, p_value, dof, expctd = chi2_contingency(obs)\n",
        "g, p, dof "
      ],
      "execution_count": 45,
      "outputs": [
        {
          "output_type": "execute_result",
          "data": {
            "text/plain": [
              "(29.603174603174608, 0.01047464310091866, 4)"
            ]
          },
          "metadata": {
            "tags": []
          },
          "execution_count": 45
        }
      ]
    },
    {
      "cell_type": "code",
      "metadata": {
        "id": "mGoFTGTeYrXz"
      },
      "source": [
        ""
      ],
      "execution_count": null,
      "outputs": []
    }
  ]
}