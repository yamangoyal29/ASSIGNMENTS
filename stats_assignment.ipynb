{
  "nbformat": 4,
  "nbformat_minor": 0,
  "metadata": {
    "colab": {
      "name": "stats assignment.ipynb",
      "provenance": [],
      "authorship_tag": "ABX9TyNNCkpNhRADtrdtQMVjs91s",
      "include_colab_link": true
    },
    "kernelspec": {
      "name": "python3",
      "display_name": "Python 3"
    },
    "language_info": {
      "name": "python"
    }
  },
  "cells": [
    {
      "cell_type": "markdown",
      "metadata": {
        "id": "view-in-github",
        "colab_type": "text"
      },
      "source": [
        "<a href=\"https://colab.research.google.com/github/yamangoyal29/ASSIGNMENTS/blob/main/stats_assignment.ipynb\" target=\"_parent\"><img src=\"https://colab.research.google.com/assets/colab-badge.svg\" alt=\"Open In Colab\"/></a>"
      ]
    },
    {
      "cell_type": "markdown",
      "metadata": {
        "id": "4SyeaTnTXmuE"
      },
      "source": [
        "stats assignment 1\n",
        "question 1\n"
      ]
    },
    {
      "cell_type": "code",
      "metadata": {
        "id": "olxdBzESUO4X"
      },
      "source": [
        "a=[6, 7, 5, 7, 7, 8, 7, 6, 9, 7, 4, 10, 6, 8, 8, 9, 5, 6, 4, 8]\n"
      ],
      "execution_count": null,
      "outputs": []
    },
    {
      "cell_type": "code",
      "metadata": {
        "colab": {
          "base_uri": "https://localhost:8080/"
        },
        "id": "hPTpIrcMUoRK",
        "outputId": "67c78b34-9fa0-42ff-ad37-1ac14684902b"
      },
      "source": [
        "np.sort(a)"
      ],
      "execution_count": 6,
      "outputs": [
        {
          "output_type": "execute_result",
          "data": {
            "text/plain": [
              "array([ 4,  4,  5,  5,  6,  6,  6,  6,  7,  7,  7,  7,  7,  8,  8,  8,  8,\n",
              "        9,  9, 10])"
            ]
          },
          "metadata": {
            "tags": []
          },
          "execution_count": 6
        }
      ]
    },
    {
      "cell_type": "code",
      "metadata": {
        "colab": {
          "base_uri": "https://localhost:8080/"
        },
        "id": "7pGbZGJdUrNP",
        "outputId": "8e04babf-ab31-48da-e09e-472776316b52"
      },
      "source": [
        "np.median(a)"
      ],
      "execution_count": 7,
      "outputs": [
        {
          "output_type": "execute_result",
          "data": {
            "text/plain": [
              "7.0"
            ]
          },
          "metadata": {
            "tags": []
          },
          "execution_count": 7
        }
      ]
    },
    {
      "cell_type": "code",
      "metadata": {
        "colab": {
          "base_uri": "https://localhost:8080/"
        },
        "id": "MHZ6nAwxVQTP",
        "outputId": "0ee07cbc-47f6-4c78-8be4-71bade6b2930"
      },
      "source": [
        "from collections import Counter\n",
        "\n",
        "def calculate_mode(n):\n",
        "    c = Counter(n)\n",
        "    num_freq = c.most_common()\n",
        "    max_count = num_freq[0][1]\n",
        "    \n",
        "    modes = []\n",
        "    for num in num_freq:\n",
        "        if num[1] == max_count:\n",
        "            modes.append(num[0])\n",
        "    return modes\n",
        "\n",
        "calculate_mode(a)"
      ],
      "execution_count": 16,
      "outputs": [
        {
          "output_type": "execute_result",
          "data": {
            "text/plain": [
              "[7]"
            ]
          },
          "metadata": {
            "tags": []
          },
          "execution_count": 16
        }
      ]
    },
    {
      "cell_type": "code",
      "metadata": {
        "colab": {
          "base_uri": "https://localhost:8080/"
        },
        "id": "NBde971-VU9t",
        "outputId": "b9baa404-ea1c-48bb-912d-b5fbdfe6da2e"
      },
      "source": [
        "np.std(a)"
      ],
      "execution_count": 17,
      "outputs": [
        {
          "output_type": "execute_result",
          "data": {
            "text/plain": [
              "1.5898113095584647"
            ]
          },
          "metadata": {
            "tags": []
          },
          "execution_count": 17
        }
      ]
    },
    {
      "cell_type": "markdown",
      "metadata": {
        "id": "w7smM6gFX0Lt"
      },
      "source": [
        "question 2\n"
      ]
    },
    {
      "cell_type": "code",
      "metadata": {
        "id": "ANSFT8MBX1vi"
      },
      "source": [
        "b=[28, 122, 217, 130, 120, 86, 80, 90, 140, 120, 70, 40, 145, 113, 90, 68, 174, 194, 170,\n",
        "100, 75, 104, 97, 75,\n",
        "123, 100, 75, 104, 97, 75, 123, 100, 89, 120, 109]"
      ],
      "execution_count": 23,
      "outputs": []
    },
    {
      "cell_type": "code",
      "metadata": {
        "colab": {
          "base_uri": "https://localhost:8080/"
        },
        "id": "Nwrd6l0sX-5n",
        "outputId": "968f47be-6553-43ad-badb-f94cff132946"
      },
      "source": [
        "np.mean(b)"
      ],
      "execution_count": 24,
      "outputs": [
        {
          "output_type": "execute_result",
          "data": {
            "text/plain": [
              "107.51428571428572"
            ]
          },
          "metadata": {
            "tags": []
          },
          "execution_count": 24
        }
      ]
    },
    {
      "cell_type": "code",
      "metadata": {
        "colab": {
          "base_uri": "https://localhost:8080/"
        },
        "id": "K4rccEUaYCgz",
        "outputId": "cf4e0bc5-8a6c-46db-b0a4-bf5a8b37cc67"
      },
      "source": [
        "np.sort(b)"
      ],
      "execution_count": 25,
      "outputs": [
        {
          "output_type": "execute_result",
          "data": {
            "text/plain": [
              "array([ 28,  40,  68,  70,  75,  75,  75,  75,  80,  86,  89,  90,  90,\n",
              "        97,  97, 100, 100, 100, 104, 104, 109, 113, 120, 120, 120, 122,\n",
              "       123, 123, 130, 140, 145, 170, 174, 194, 217])"
            ]
          },
          "metadata": {
            "tags": []
          },
          "execution_count": 25
        }
      ]
    },
    {
      "cell_type": "code",
      "metadata": {
        "colab": {
          "base_uri": "https://localhost:8080/"
        },
        "id": "ESv9YDS8YEGb",
        "outputId": "dd47ea5d-701c-44c2-899f-f027a69535ac"
      },
      "source": [
        "np.median(b)"
      ],
      "execution_count": 26,
      "outputs": [
        {
          "output_type": "execute_result",
          "data": {
            "text/plain": [
              "100.0"
            ]
          },
          "metadata": {
            "tags": []
          },
          "execution_count": 26
        }
      ]
    },
    {
      "cell_type": "code",
      "metadata": {
        "colab": {
          "base_uri": "https://localhost:8080/"
        },
        "id": "EtLJTcDyYFcn",
        "outputId": "eead5175-7fd5-4e0b-a88a-aed7c125f8df"
      },
      "source": [
        "calculate_mode(b)"
      ],
      "execution_count": 27,
      "outputs": [
        {
          "output_type": "execute_result",
          "data": {
            "text/plain": [
              "[75]"
            ]
          },
          "metadata": {
            "tags": []
          },
          "execution_count": 27
        }
      ]
    },
    {
      "cell_type": "code",
      "metadata": {
        "colab": {
          "base_uri": "https://localhost:8080/"
        },
        "id": "SOmlE3zHYKYh",
        "outputId": "126852db-0f7a-4682-e56b-4c83d9ab404d"
      },
      "source": [
        "np.std(b)"
      ],
      "execution_count": 28,
      "outputs": [
        {
          "output_type": "execute_result",
          "data": {
            "text/plain": [
              "38.77287080168403"
            ]
          },
          "metadata": {
            "tags": []
          },
          "execution_count": 28
        }
      ]
    },
    {
      "cell_type": "markdown",
      "metadata": {
        "id": "KyIV9iD5YQeN"
      },
      "source": [
        "question 3\n"
      ]
    },
    {
      "cell_type": "code",
      "metadata": {
        "id": "Qum0AGYuYOJT"
      },
      "source": [
        "x = [0, 1, 2, 3, 4, 5]\n",
        "f_x = [0.09, 0.15, 0.40, 0.25, 0.10, 0.01]"
      ],
      "execution_count": 39,
      "outputs": []
    },
    {
      "cell_type": "code",
      "metadata": {
        "id": "DRE-aZ42Yja4"
      },
      "source": [
        "def mean_frequency(x,f_x):\n",
        "  s=[x[i]*f_x[i] for i in range(len(x))]\n",
        "  d=sum(s)\n",
        "  print(d)"
      ],
      "execution_count": 55,
      "outputs": []
    },
    {
      "cell_type": "code",
      "metadata": {
        "colab": {
          "base_uri": "https://localhost:8080/"
        },
        "id": "lS7WvSCiYxyr",
        "outputId": "b11b80bd-4609-4524-acf5-8bdda7b93619"
      },
      "source": [
        "mean_frequency(x,f_x)"
      ],
      "execution_count": 56,
      "outputs": [
        {
          "output_type": "stream",
          "text": [
            "2.15\n"
          ],
          "name": "stdout"
        }
      ]
    },
    {
      "cell_type": "code",
      "metadata": {
        "id": "kYWU9ONrZo7b"
      },
      "source": [
        "def var_frequency(x,f_x):\n",
        "  ss=[(x[i]**2)*f_x[i] for i in range(len(x))]\n",
        "  s=[x[i]*f_x[i] for i in range(len(x))]\n",
        "  m=sum(ss)\n",
        "  n=sum(s)*sum(s)\n",
        "  print(m-n)\n"
      ],
      "execution_count": 84,
      "outputs": []
    },
    {
      "cell_type": "code",
      "metadata": {
        "colab": {
          "base_uri": "https://localhost:8080/"
        },
        "id": "XkgKOoaVdXA8",
        "outputId": "a0b7b1cf-8a68-4e0a-bf41-bbae75dd9041"
      },
      "source": [
        "var_frequency(x,f_x)"
      ],
      "execution_count": 90,
      "outputs": [
        {
          "output_type": "stream",
          "text": [
            "1.2275\n"
          ],
          "name": "stdout"
        }
      ]
    },
    {
      "cell_type": "markdown",
      "metadata": {
        "id": "kmQbOQS4fi00"
      },
      "source": [
        "question 5\n",
        "\n"
      ]
    },
    {
      "cell_type": "code",
      "metadata": {
        "id": "QedfxXAKd8mc"
      },
      "source": [
        "n=6\n",
        "p=0.3\n",
        "x=2\n",
        "import math\n",
        "def prob_binom(n,p,x):\n",
        "  prob=(math.factorial(n)/(math.factorial(x)*math.factorial(n-x)))*(p**x)*((1-p)**(n-x))\n",
        "  print(prob)\n"
      ],
      "execution_count": 93,
      "outputs": []
    },
    {
      "cell_type": "code",
      "metadata": {
        "colab": {
          "base_uri": "https://localhost:8080/"
        },
        "id": "xdpx5lV1goys",
        "outputId": "5f9d3d43-27c0-4077-b95f-849ccd06ba42"
      },
      "source": [
        "prob_binom(n,p,x)"
      ],
      "execution_count": 94,
      "outputs": [
        {
          "output_type": "stream",
          "text": [
            "0.3241349999999999\n"
          ],
          "name": "stdout"
        }
      ]
    },
    {
      "cell_type": "markdown",
      "metadata": {
        "id": "aRt6SHJBg-MP"
      },
      "source": [
        "question6"
      ]
    },
    {
      "cell_type": "code",
      "metadata": {
        "id": "dtbeahwFgrnc"
      },
      "source": [
        "n_g=8\n",
        "p_g=0.75\n",
        "x_g=5\n",
        "n_b=12\n",
        "p_b=0.45\n",
        "x_b=5\n"
      ],
      "execution_count": 95,
      "outputs": []
    },
    {
      "cell_type": "code",
      "metadata": {
        "colab": {
          "base_uri": "https://localhost:8080/"
        },
        "id": "7P5aE73qiI_n",
        "outputId": "737a1c54-4bea-4250-a344-89e40f3f66d3"
      },
      "source": [
        "prob_binom(n_g,p_g,x_g)"
      ],
      "execution_count": 96,
      "outputs": [
        {
          "output_type": "stream",
          "text": [
            "0.2076416015625\n"
          ],
          "name": "stdout"
        }
      ]
    },
    {
      "cell_type": "code",
      "metadata": {
        "colab": {
          "base_uri": "https://localhost:8080/"
        },
        "id": "Os5rnugHiNRA",
        "outputId": "d13c3f90-c731-4096-8309-4de3956dc899"
      },
      "source": [
        "prob_binom(n_b,p_b,x_b)"
      ],
      "execution_count": 97,
      "outputs": [
        {
          "output_type": "stream",
          "text": [
            "0.22249823843265837\n"
          ],
          "name": "stdout"
        }
      ]
    },
    {
      "cell_type": "code",
      "metadata": {
        "id": "y8A1cJXOiTdg"
      },
      "source": [
        "n_g=8\n",
        "p_g=0.75\n",
        "x_g=4\n",
        "n_b=12\n",
        "p_b=0.45\n",
        "x_b=6"
      ],
      "execution_count": 98,
      "outputs": []
    },
    {
      "cell_type": "code",
      "metadata": {
        "colab": {
          "base_uri": "https://localhost:8080/"
        },
        "id": "MR1JPHcCiZeK",
        "outputId": "21f5934a-77bf-441d-b642-23b510c0c2b3"
      },
      "source": [
        "prob_binom(n_g,p_g,x_g)"
      ],
      "execution_count": 99,
      "outputs": [
        {
          "output_type": "stream",
          "text": [
            "0.086517333984375\n"
          ],
          "name": "stdout"
        }
      ]
    },
    {
      "cell_type": "code",
      "metadata": {
        "colab": {
          "base_uri": "https://localhost:8080/"
        },
        "id": "DnEyz6wmidEh",
        "outputId": "8d4ed2d0-13cd-4f34-90a6-dcd340e0cb9b"
      },
      "source": [
        "prob_binom(n_b,p_b,x_b)"
      ],
      "execution_count": 100,
      "outputs": [
        {
          "output_type": "stream",
          "text": [
            "0.2123846821402648\n"
          ],
          "name": "stdout"
        }
      ]
    },
    {
      "cell_type": "code",
      "metadata": {
        "id": "uCtWX_vJievn"
      },
      "source": [
        "x=range(0,12)"
      ],
      "execution_count": 103,
      "outputs": []
    },
    {
      "cell_type": "code",
      "metadata": {
        "colab": {
          "base_uri": "https://localhost:8080/"
        },
        "id": "uyC61sI4is6G",
        "outputId": "f7a27d78-073f-4d91-f884-086f71c68563"
      },
      "source": [
        "x"
      ],
      "execution_count": 104,
      "outputs": [
        {
          "output_type": "execute_result",
          "data": {
            "text/plain": [
              "range(0, 12)"
            ]
          },
          "metadata": {
            "tags": []
          },
          "execution_count": 104
        }
      ]
    },
    {
      "cell_type": "code",
      "metadata": {
        "id": "b43dM3mUitaJ"
      },
      "source": [
        "import matplotlib.pyplot as plt\n",
        "%matplotlib inline"
      ],
      "execution_count": 111,
      "outputs": []
    },
    {
      "cell_type": "code",
      "metadata": {
        "colab": {
          "base_uri": "https://localhost:8080/"
        },
        "id": "_bPQ7lGOizqp",
        "outputId": "2b755939-634b-4ac3-b188-071739586719"
      },
      "source": [
        "from scipy.stats import binom\n",
        "# setting the values\n",
        "# of n and p\n",
        "n = 8\n",
        "p = 0.75\n",
        "# defining the list of r values\n",
        "r_values = list(range(n + 1))\n",
        "# obtaining the mean and variance\n",
        "mean, var = binom.stats(n, p)\n",
        "# list of pmf values\n",
        "dist = [binom.pmf(r, n, p) for r in r_values ]\n",
        "# printing the table\n",
        "print(\"r\\tp(r)\")\n",
        "for i in range(n + 1):\n",
        "\tprint(str(r_values[i]) + \"\\t\" + str(dist[i]))\n",
        "# printing mean and variance\n",
        "print(\"mean = \"+str(mean))\n",
        "print(\"variance = \"+str(var))\n"
      ],
      "execution_count": 113,
      "outputs": [
        {
          "output_type": "stream",
          "text": [
            "r\tp(r)\n",
            "0\t1.5258789062500007e-05\n",
            "1\t0.0003662109375000003\n",
            "2\t0.003845214843750005\n",
            "3\t0.02307128906250001\n",
            "4\t0.08651733398437506\n",
            "5\t0.20764160156250022\n",
            "6\t0.31146240234375017\n",
            "7\t0.2669677734375001\n",
            "8\t0.10011291503906253\n",
            "mean = 6.0\n",
            "variance = 1.5\n"
          ],
          "name": "stdout"
        }
      ]
    },
    {
      "cell_type": "code",
      "metadata": {
        "colab": {
          "base_uri": "https://localhost:8080/",
          "height": 265
        },
        "id": "Aza96PFFjY51",
        "outputId": "dd5abfaa-5a9e-4840-f1d1-ecd5c2a57508"
      },
      "source": [
        "from scipy.stats import binom\n",
        "import matplotlib.pyplot as plt\n",
        "# setting the values\n",
        "# of n and p\n",
        "n = 8\n",
        "p = 0.75\n",
        "# defining list of r values\n",
        "r_values = list(range(n + 1))\n",
        "# list of pmf values\n",
        "dist = [binom.pmf(r, n, p) for r in r_values ]\n",
        "# plotting the graph\n",
        "plt.bar(r_values, dist)\n",
        "plt.show()\n"
      ],
      "execution_count": 115,
      "outputs": [
        {
          "output_type": "display_data",
          "data": {
            "image/png": "[encoded data removed]",
            "text/plain": [
              "<Figure size 432x288 with 1 Axes>"
            ]
          },
          "metadata": {
            "tags": [],
            "needs_background": "light"
          }
        }
      ]
    },
    {
      "cell_type": "markdown",
      "metadata": {
        "id": "Afnop2qklDBj"
      },
      "source": [
        "question 7\n"
      ]
    },
    {
      "cell_type": "markdown",
      "metadata": {
        "id": "dGyv8B20lC4V"
      },
      "source": [
        ""
      ]
    },
    {
      "cell_type": "code",
      "metadata": {
        "id": "MT4Wm2zdkzYF"
      },
      "source": [
        ""
      ],
      "execution_count": null,
      "outputs": []
    }
  ]
}