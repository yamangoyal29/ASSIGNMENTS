{
  "nbformat": 4,
  "nbformat_minor": 0,
  "metadata": {
    "colab": {
      "name": "Alexandre- Theophile Vandermonde matrix.ipynb",
      "provenance": [],
      "authorship_tag": "ABX9TyNAoFWTDo9RrUQk2h99JR+4",
      "include_colab_link": true
    },
    "kernelspec": {
      "name": "python3",
      "display_name": "Python 3"
    },
    "language_info": {
      "name": "python"
    }
  },
  "cells": [
    {
      "cell_type": "markdown",
      "metadata": {
        "id": "view-in-github",
        "colab_type": "text"
      },
      "source": [
        "<a href=\"https://colab.research.google.com/github/yamangoyal29/ASSIGNMENTS/blob/main/Alexandre_Theophile_Vandermonde_matrix.ipynb\" target=\"_parent\"><img src=\"https://colab.research.google.com/assets/colab-badge.svg\" alt=\"Open In Colab\"/></a>"
      ]
    },
    {
      "cell_type": "code",
      "metadata": {
        "id": "IAp_dl8zcu7y"
      },
      "source": [
        "import numpy as np\n",
        "\n",
        "f=np.array([1,2,3,4])\n",
        "n=3\n",
        "g=np.array([x**(n-1-i) for x in f for i in range(n)]).reshape(4,3)"
      ],
      "execution_count": 14,
      "outputs": []
    },
    {
      "cell_type": "code",
      "metadata": {
        "colab": {
          "base_uri": "https://localhost:8080/"
        },
        "id": "qq_ebkkGdMBE",
        "outputId": "1508b957-c36f-4047-b762-0cb82214e2d2"
      },
      "source": [
        "g"
      ],
      "execution_count": 15,
      "outputs": [
        {
          "output_type": "execute_result",
          "data": {
            "text/plain": [
              "array([[ 1,  1,  1],\n",
              "       [ 4,  2,  1],\n",
              "       [ 9,  3,  1],\n",
              "       [16,  4,  1]])"
            ]
          },
          "metadata": {
            "tags": []
          },
          "execution_count": 15
        }
      ]
    },
    {
      "cell_type": "code",
      "metadata": {
        "colab": {
          "base_uri": "https://localhost:8080/"
        },
        "id": "Oaw0EaS7fMN8",
        "outputId": "4783884c-503d-49a1-bc15-7f0bc63e9d93"
      },
      "source": [
        "p=np.array([3, 5, 7, 2, 8, 10, 11, 65, 72, 81, 99, 100, 150])\n",
        "n=int(input())\n",
        "for i in range(0,len(p)-n+1):\n",
        "  y=0\n",
        "  for j in range(n):\n",
        "    y = y + p[i+j]\n",
        "\n",
        "  print(y/n)  \n",
        "\n",
        "    \n",
        "\n"
      ],
      "execution_count": 54,
      "outputs": [
        {
          "output_type": "stream",
          "text": [
            "3\n",
            "5.0\n",
            "4.666666666666667\n",
            "5.666666666666667\n",
            "6.666666666666667\n",
            "9.666666666666666\n",
            "28.666666666666668\n",
            "49.333333333333336\n",
            "72.66666666666667\n",
            "84.0\n",
            "93.33333333333333\n",
            "116.33333333333333\n"
          ],
          "name": "stdout"
        }
      ]
    },
    {
      "cell_type": "code",
      "metadata": {
        "id": "zu3NFF3EhGVq"
      },
      "source": [
        ""
      ],
      "execution_count": null,
      "outputs": []
    }
  ]
}