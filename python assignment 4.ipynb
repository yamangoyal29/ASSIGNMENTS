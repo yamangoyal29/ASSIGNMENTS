{
  "nbformat": 4,
  "nbformat_minor": 0,
  "metadata": {
    "colab": {
      "name": "Untitled5.ipynb",
      "provenance": [],
      "authorship_tag": "ABX9TyPTf9G2QUTZEujVrJY3VKFC",
      "include_colab_link": true
    },
    "kernelspec": {
      "name": "python3",
      "display_name": "Python 3"
    }
  },
  "cells": [
    {
      "cell_type": "markdown",
      "metadata": {
        "id": "view-in-github",
        "colab_type": "text"
      },
      "source": [
        "<a href=\"https://colab.research.google.com/github/yamangoyal29/ASSIGNMENTS/blob/main/python%20assignment%204.ipynb\" target=\"_parent\"><img src=\"https://colab.research.google.com/assets/colab-badge.svg\" alt=\"Open In Colab\"/></a>"
      ]
    },
    {
      "cell_type": "markdown",
      "metadata": {
        "id": "JqaARr6mivvJ"
      },
      "source": [
        "python assignment 4 question 1.2\r\n"
      ]
    },
    {
      "cell_type": "code",
      "metadata": {
        "colab": {
          "base_uri": "https://localhost:8080/"
        },
        "id": "0FqFs6z6itXj",
        "outputId": "24cc10df-df46-42b5-c818-b0fd9d212729"
      },
      "source": [
        "def filter_long_words(a,b):\r\n",
        "    for i in a:\r\n",
        "        if len(i) > b:\r\n",
        "            print(i)\r\n",
        "        \r\n",
        "\r\n",
        "a=[\"yaman\",\"yogesh\",\"sagar\",\"nikhilrawat\",\"paraggupta\"]  \r\n",
        "filter_long_words(a,2)"
      ],
      "execution_count": 1,
      "outputs": [
        {
          "output_type": "stream",
          "text": [
            "yaman\n",
            "yogesh\n",
            "sagar\n",
            "nikhilrawat\n",
            "paraggupta\n"
          ],
          "name": "stdout"
        }
      ]
    },
    {
      "cell_type": "markdown",
      "metadata": {
        "id": "6aZDPOhcj7UV"
      },
      "source": [
        "python assignment 4 question 2.1"
      ]
    },
    {
      "cell_type": "code",
      "metadata": {
        "colab": {
          "base_uri": "https://localhost:8080/"
        },
        "id": "GUuvmvvDi2zA",
        "outputId": "ddac939f-8d91-4976-dff3-63508fd75029"
      },
      "source": [
        "def no_of_words(a):\r\n",
        "    return(len(a))\r\n",
        "    \r\n",
        "a=[\"ab\",\"abc\",\"mnhjcw\",\"sljdcnwjcf\"]    \r\n",
        "list(map(no_of_words,a))"
      ],
      "execution_count": 2,
      "outputs": [
        {
          "output_type": "execute_result",
          "data": {
            "text/plain": [
              "[2, 3, 6, 10]"
            ]
          },
          "metadata": {
            "tags": []
          },
          "execution_count": 2
        }
      ]
    },
    {
      "cell_type": "markdown",
      "metadata": {
        "id": "F4VK7brAmEtN"
      },
      "source": [
        "python assignment 4 question 2.2"
      ]
    },
    {
      "cell_type": "code",
      "metadata": {
        "colab": {
          "base_uri": "https://localhost:8080/"
        },
        "id": "mFsXEXjakAO3",
        "outputId": "d2d85d45-d331-4d9c-d31a-b15acc7cbc25"
      },
      "source": [
        "def vowels(a):\r\n",
        "    if a == (\"a\") or a == (\"e\") or a == (\"i\") or a == (\"u\") or a == (\"o\"):\r\n",
        "        return True\r\n",
        "    else:\r\n",
        "        return False\r\n",
        "c=\"g\"    \r\n",
        "vowels(c)"
      ],
      "execution_count": 3,
      "outputs": [
        {
          "output_type": "execute_result",
          "data": {
            "text/plain": [
              "False"
            ]
          },
          "metadata": {
            "tags": []
          },
          "execution_count": 3
        }
      ]
    },
    {
      "cell_type": "code",
      "metadata": {
        "id": "TWoPAiCmmDo2"
      },
      "source": [
        ""
      ],
      "execution_count": null,
      "outputs": []
    }
  ]
}