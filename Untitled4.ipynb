{
  "nbformat": 4,
  "nbformat_minor": 0,
  "metadata": {
    "colab": {
      "name": "Untitled4.ipynb",
      "provenance": [],
      "collapsed_sections": [],
      "authorship_tag": "ABX9TyPPStT3SUhCewdKEdMiEVa/",
      "include_colab_link": true
    },
    "kernelspec": {
      "name": "python3",
      "display_name": "Python 3"
    }
  },
  "cells": [
    {
      "cell_type": "markdown",
      "metadata": {
        "id": "view-in-github",
        "colab_type": "text"
      },
      "source": [
        "<a href=\"https://colab.research.google.com/github/yamangoyal29/ASSIGNMENTS/blob/main/Untitled4.ipynb\" target=\"_parent\"><img src=\"https://colab.research.google.com/assets/colab-badge.svg\" alt=\"Open In Colab\"/></a>"
      ]
    },
    {
      "cell_type": "markdown",
      "metadata": {
        "id": "HveF1F-qrfFU"
      },
      "source": [
        "PYTHON ASSIGNMENT 2 QUESTION 1\r\n"
      ]
    },
    {
      "cell_type": "code",
      "metadata": {
        "colab": {
          "base_uri": "https://localhost:8080/"
        },
        "id": "FPulXjv0pk3d",
        "outputId": "a29a861c-8f8d-407a-95d2-6f4391209e9b"
      },
      "source": [
        "for i in range(5):\r\n",
        "    for j in range(i+1):\r\n",
        "        print(\"*\", end='')\r\n",
        "    print(\"\\r\")\r\n",
        "    \r\n",
        "for i in range(5,0,-1):\r\n",
        "    for j in range(0,i-1):\r\n",
        "        print(\"*\", end='')\r\n",
        "    print(\"\\r\")   "
      ],
      "execution_count": 2,
      "outputs": [
        {
          "output_type": "stream",
          "text": [
            "*\r\n",
            "**\r\n",
            "***\r\n",
            "****\r\n",
            "*****\r\n",
            "****\r\n",
            "***\r\n",
            "**\r\n",
            "*\r\n",
            "\r\n"
          ],
          "name": "stdout"
        }
      ]
    },
    {
      "cell_type": "markdown",
      "metadata": {
        "id": "eduWxmIdrlnZ"
      },
      "source": [
        "PYTHON ASSIGNMENT 2 QUESTION 2\r\n"
      ]
    },
    {
      "cell_type": "code",
      "metadata": {
        "colab": {
          "base_uri": "https://localhost:8080/"
        },
        "id": "_s5x3EWfpMGG",
        "outputId": "7a4541b1-b18c-4b8f-ab9e-5e07319a1fcb"
      },
      "source": [
        "l=input(\"write a word\")\r\n",
        "for i in range(1,len(l)+1):\r\n",
        "    print(l[-i])"
      ],
      "execution_count": 1,
      "outputs": [
        {
          "output_type": "stream",
          "text": [
            "write a wordyogesh\n",
            "h\n",
            "s\n",
            "e\n",
            "g\n",
            "o\n",
            "y\n"
          ],
          "name": "stdout"
        }
      ]
    },
    {
      "cell_type": "code",
      "metadata": {
        "id": "BW7OQyGKpUym"
      },
      "source": [
        ""
      ],
      "execution_count": 1,
      "outputs": []
    }
  ]
}