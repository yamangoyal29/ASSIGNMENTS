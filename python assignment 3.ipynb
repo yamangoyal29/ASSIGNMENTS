{
  "nbformat": 4,
  "nbformat_minor": 0,
  "metadata": {
    "colab": {
      "name": "Untitled4.ipynb",
      "provenance": [],
      "collapsed_sections": [],
      "authorship_tag": "ABX9TyMoA9ha8Pg+PNuizdqdBf2F",
      "include_colab_link": true
    },
    "kernelspec": {
      "name": "python3",
      "display_name": "Python 3"
    }
  },
  "cells": [
    {
      "cell_type": "markdown",
      "metadata": {
        "id": "view-in-github",
        "colab_type": "text"
      },
      "source": [
        "<a href=\"https://colab.research.google.com/github/yamangoyal29/ASSIGNMENTS/blob/main/python%20assignment%203.ipynb\" target=\"_parent\"><img src=\"https://colab.research.google.com/assets/colab-badge.svg\" alt=\"Open In Colab\"/></a>"
      ]
    },
    {
      "cell_type": "markdown",
      "metadata": {
        "id": "j4ZyE7ae_UD_"
      },
      "source": [
        "PYTHON ASSIGNMENT 3 QUESTION 1.1\r\n"
      ]
    },
    {
      "cell_type": "code",
      "metadata": {
        "colab": {
          "base_uri": "https://localhost:8080/"
        },
        "id": "lxYXxiYc_P-R",
        "outputId": "8a73f820-764c-4310-b78e-93e00d6c5595"
      },
      "source": [
        "l=[47,11,5,656,1,85]\r\n",
        "def myreduce(a):\r\n",
        "    return(sum(a))  \r\n",
        "myreduce(l)"
      ],
      "execution_count": null,
      "outputs": [
        {
          "output_type": "execute_result",
          "data": {
            "text/plain": [
              "805"
            ]
          },
          "metadata": {
            "tags": []
          },
          "execution_count": 1
        }
      ]
    },
    {
      "cell_type": "markdown",
      "metadata": {
        "id": "yL1buLNm_Zdp"
      },
      "source": [
        "PYTHON ASSIGNMENT 3  QUESTION 1.2\r\n"
      ]
    },
    {
      "cell_type": "code",
      "metadata": {
        "colab": {
          "base_uri": "https://localhost:8080/"
        },
        "id": "7iA2TN5r_TZ4",
        "outputId": "bd44e245-b345-4624-a636-f583a5c49965"
      },
      "source": [
        "def myfilter(a):\r\n",
        "    for i in a:\r\n",
        "        if i%3==0:\r\n",
        "            print(i)\r\n",
        "\r\n",
        "\r\n",
        "l=range(0,20)\r\n",
        "myfilter(l)\r\n"
      ],
      "execution_count": null,
      "outputs": [
        {
          "output_type": "stream",
          "text": [
            "0\n",
            "3\n",
            "6\n",
            "9\n",
            "12\n",
            "15\n",
            "18\n"
          ],
          "name": "stdout"
        }
      ]
    },
    {
      "cell_type": "markdown",
      "metadata": {
        "id": "HkjC79OgMTMZ"
      },
      "source": [
        "python assignment 3 question 2"
      ]
    },
    {
      "cell_type": "code",
      "metadata": {
        "id": "JtrXHNLdIuai",
        "colab": {
          "base_uri": "https://localhost:8080/"
        },
        "outputId": "c8323353-5dd9-4552-edc2-beb7c58b0ccc"
      },
      "source": [
        "a=[\"x\",\"y\",\"z\"]\r\n",
        "result = [i*j for i in a for j in range(1,5)]\r\n",
        "result"
      ],
      "execution_count": 1,
      "outputs": [
        {
          "output_type": "execute_result",
          "data": {
            "text/plain": [
              "['x', 'xx', 'xxx', 'xxxx', 'y', 'yy', 'yyy', 'yyyy', 'z', 'zz', 'zzz', 'zzzz']"
            ]
          },
          "metadata": {
            "tags": []
          },
          "execution_count": 1
        }
      ]
    },
    {
      "cell_type": "code",
      "metadata": {
        "id": "Gj0LG2ahJ78G",
        "colab": {
          "base_uri": "https://localhost:8080/"
        },
        "outputId": "348ed447-0614-45b7-ce66-18f334bbd017"
      },
      "source": [
        "a=[\"x\",\"y\",\"z\"]\r\n",
        "resul=[i*j for j in range(1,5) for i in a]\r\n",
        "resul"
      ],
      "execution_count": 2,
      "outputs": [
        {
          "output_type": "execute_result",
          "data": {
            "text/plain": [
              "['x', 'y', 'z', 'xx', 'yy', 'zz', 'xxx', 'yyy', 'zzz', 'xxxx', 'yyyy', 'zzzz']"
            ]
          },
          "metadata": {
            "tags": []
          },
          "execution_count": 2
        }
      ]
    },
    {
      "cell_type": "code",
      "metadata": {
        "id": "hKIp3tUIKtCF",
        "colab": {
          "base_uri": "https://localhost:8080/"
        },
        "outputId": "556f7c47-da39-496a-d1be-37b03f254afe"
      },
      "source": [
        "new=[2,3,4]\r\n",
        "result3=[[i+j] for i in new for j in range(0,3)]\r\n",
        "result3"
      ],
      "execution_count": 3,
      "outputs": [
        {
          "output_type": "execute_result",
          "data": {
            "text/plain": [
              "[[2], [3], [4], [3], [4], [5], [4], [5], [6]]"
            ]
          },
          "metadata": {
            "tags": []
          },
          "execution_count": 3
        }
      ]
    },
    {
      "cell_type": "code",
      "metadata": {
        "colab": {
          "base_uri": "https://localhost:8080/"
        },
        "id": "6kypET42et0z",
        "outputId": "c4225522-a609-4230-f527-e4842b7cb2b3"
      },
      "source": [
        "four=[2,3,4,5]\r\n",
        "result4=[[i+j for i in four] for j in range(0,4)]\r\n",
        "result4"
      ],
      "execution_count": 4,
      "outputs": [
        {
          "output_type": "execute_result",
          "data": {
            "text/plain": [
              "[[2, 3, 4, 5], [3, 4, 5, 6], [4, 5, 6, 7], [5, 6, 7, 8]]"
            ]
          },
          "metadata": {
            "tags": []
          },
          "execution_count": 4
        }
      ]
    },
    {
      "cell_type": "code",
      "metadata": {
        "colab": {
          "base_uri": "https://localhost:8080/"
        },
        "id": "LfGg3x4UexTD",
        "outputId": "7c573a0a-707b-420f-a467-e461ae2182eb"
      },
      "source": [
        "result5=[(i,j) for i in range(1,4) for j in range(1,4)]\r\n",
        "result5"
      ],
      "execution_count": 5,
      "outputs": [
        {
          "output_type": "execute_result",
          "data": {
            "text/plain": [
              "[(1, 1), (1, 2), (1, 3), (2, 1), (2, 2), (2, 3), (3, 1), (3, 2), (3, 3)]"
            ]
          },
          "metadata": {
            "tags": []
          },
          "execution_count": 5
        }
      ]
    },
    {
      "cell_type": "code",
      "metadata": {
        "id": "7hW5Wkqge0Km"
      },
      "source": [
        ""
      ],
      "execution_count": null,
      "outputs": []
    }
  ]
}